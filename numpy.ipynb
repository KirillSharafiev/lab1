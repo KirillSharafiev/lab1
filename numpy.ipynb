{
  "cells": [
    {
      "cell_type": "markdown",
      "metadata": {
        "id": "vC84e9kzyxPy"
      },
      "source": [
        "<h1>Импорт библиотек"
      ]
    },
    {
      "cell_type": "code",
      "execution_count": 324,
      "metadata": {
        "id": "cgKeNegmQG5S"
      },
      "outputs": [],
      "source": [
        "import numpy as np\n",
        "import matplotlib.pyplot as plt"
      ]
    },
    {
      "cell_type": "markdown",
      "metadata": {
        "id": "qFM9uVU2x4Ls"
      },
      "source": [
        "<h1>Задача 1. Дан набор из $p$ матриц размерностью $(n, n)$ и $p$ векторов размерностью $(n, 1)$, найти сумму произведений матриц на векторы. Написать тесты для кода"
      ]
    },
    {
      "cell_type": "code",
      "execution_count": 6,
      "metadata": {
        "id": "IAbUvEiYyWFF"
      },
      "outputs": [
        {
          "name": "stdout",
          "output_type": "stream",
          "text": [
            "[[ 88]\n",
            " [138]]\n"
          ]
        }
      ],
      "source": [
        "import numpy as np\n",
        "def sum_prod(X, V):\n",
        "    p = len(X)\n",
        "    result = 0\n",
        "    for i in range(p):\n",
        "        result += np.dot(X[i], V[i])\n",
        "    return result\n",
        "\n",
        "\n",
        "def test():\n",
        "   print(sum_prod( X = np.array([\n",
        "        np.array([\n",
        "            [3, 5], \n",
        "            [2, 1]\n",
        "        ]), \n",
        "        np.array([\n",
        "            [4, 1], \n",
        "            [2, 7]\n",
        "        ]), \n",
        "        np.array([\n",
        "            [0, 2], \n",
        "            [9, 9]\n",
        "        ])\n",
        "    ]), V = np.array([\n",
        "        np.array([\n",
        "            [9], \n",
        "            [7]\n",
        "        ]), \n",
        "        np.array([\n",
        "            [2], \n",
        "            [4]\n",
        "        ]), \n",
        "        np.array([\n",
        "            [2], \n",
        "            [7]\n",
        "        ])\n",
        "    ])))\n",
        "\n",
        "test()"
      ]
    },
    {
      "cell_type": "markdown",
      "metadata": {
        "id": "TKwPG4fIy2w4"
      },
      "source": [
        "<h1>Задача 2. Дана матрица M, напишите функцию, которая бинаризует матрицу по некоторому threshold (то есть, все значения большие threshold становятся равными 1, иначе 0). Напишите тесты для кода"
      ]
    },
    {
      "cell_type": "code",
      "execution_count": 14,
      "metadata": {
        "id": "KQDNMgsjRNH7"
      },
      "outputs": [
        {
          "name": "stdout",
          "output_type": "stream",
          "text": [
            "[[0. 1. 1.]\n",
            " [1. 1. 1.]\n",
            " [1. 1. 1.]]\n",
            "[[0. 1. 1.]\n",
            " [1. 0. 1.]\n",
            " [1. 1. 0.]]\n",
            "[[1. 1.]\n",
            " [1. 1.]\n",
            " [0. 1.]]\n"
          ]
        }
      ],
      "source": [
        "def binarize(M, threshold=0.5):\n",
        "  for i in range(len(M)):\n",
        "    for j in range(len(M[0])):\n",
        "        if(M[i][j] > threshold):\n",
        "           M[i][j] = 1\n",
        "        else: M[i][j] = 0   \n",
        "  return M     \n",
        " \n",
        "def test(): \n",
        "    print(binarize( M = np.array([[0.3,2,3], [1,2,3], [3,2,1]])))\n",
        "    print(binarize( M = np.array([[0.3,2,3], [1,0.5,3], [3,2,0.1]])))\n",
        "    print(binarize( M = np.array([[2,3], [1,2], [0.3,2]])))\n",
        "test()      "
      ]
    },
    {
      "cell_type": "markdown",
      "metadata": {
        "id": "IY5L-h-7zWhN"
      },
      "source": [
        "<h1>Задача 3. Напишите функцию, которая возвращает уникальные элементы из каждой строки матрицы. Напишите такую же функцию, но для столбцов. Напишите тесты для кода"
      ]
    },
    {
      "cell_type": "code",
      "execution_count": 17,
      "metadata": {
        "id": "-8dEZhR0SBC-"
      },
      "outputs": [
        {
          "name": "stdout",
          "output_type": "stream",
          "text": [
            "[[1, 2], [1, 2], [1, 2, 3]]\n",
            "[[1], [2], [2, 3]]\n"
          ]
        }
      ],
      "source": [
        "def unique_rows(mat):\n",
        "    unique = []\n",
        "    for arr in mat:\n",
        "        uniq = []\n",
        "        unique.append(uniq)\n",
        "        \n",
        "        for number in arr:\n",
        "          if number not in uniq:\n",
        "            uniq.append(number)\n",
        "    return unique       \n",
        "        \n",
        "  \n",
        "\n",
        "def unique_columns(mat):\n",
        "  M = np.array(mat).transpose()\n",
        "  unique = []\n",
        "  for arr in M:\n",
        "    uniq = []\n",
        "    unique.append(uniq)\n",
        "    for number in arr:\n",
        "          if number not in uniq:\n",
        "            uniq.append(number)\n",
        "  return unique\n",
        "  \n",
        "         \n",
        "def test_rows():\n",
        "   print(unique_rows(np.array([[1,2,2], [1,2,2], [1,2,3]])))\n",
        "test_rows()  \n",
        "def test_columns():\n",
        "   print(unique_columns(np.array([[1,2,2], [1,2,2], [1,2,3]])))\n",
        "test_columns()   "
      ]
    },
    {
      "cell_type": "markdown",
      "metadata": {
        "id": "roYAlo4Jz-lH"
      },
      "source": [
        "<h1>Задача 4. Напишите функцию, которая заполняет матрицу с размерами $(m, n)$ случайными числами, распределенными по нормальному закону. Затем считает мат. ожидание и дисперсию для каждого из столбцов и строк, а также строит для каждой строки и столбца гистограмму значений (использовать функцию hist из модуля matplotlib.plot)"
      ]
    },
    {
      "cell_type": "code",
      "execution_count": 21,
      "metadata": {
        "id": "nZK_71hMSQzv"
      },
      "outputs": [
        {
          "name": "stdout",
          "output_type": "stream",
          "text": [
            "Мат. ожидание 1 строки = 68.92072745190139\n",
            "Дисперсия 1 строки = 7643.170530332015\n",
            "Значения 1 строки[  7.10175573 130.73969918]\n"
          ]
        },
        {
          "data": {
            "image/png": "[encoded data removed]",
            "text/plain": [
              "<Figure size 640x480 with 1 Axes>"
            ]
          },
          "metadata": {},
          "output_type": "display_data"
        },
        {
          "name": "stdout",
          "output_type": "stream",
          "text": [
            "Мат. ожидание 1 столбца = 7.101755726661511\n",
            "Дисперсия 1 столбца = nan\n",
            "Значения 1 столбца [7.10175573]\n"
          ]
        },
        {
          "name": "stderr",
          "output_type": "stream",
          "text": [
            "C:\\Users\\shara\\AppData\\Local\\Temp\\ipykernel_18124\\1671294672.py:32: RuntimeWarning: invalid value encountered in scalar divide\n",
            "  variance = len(transMat[i])*s2n / (len(transMat[i]) -1)\n"
          ]
        },
        {
          "data": {
            "image/png": "[encoded data removed]",
            "text/plain": [
              "<Figure size 640x480 with 1 Axes>"
            ]
          },
          "metadata": {},
          "output_type": "display_data"
        },
        {
          "name": "stdout",
          "output_type": "stream",
          "text": [
            "Мат. ожидание 2 столбца = 130.73969917714126\n",
            "Дисперсия 2 столбца = nan\n",
            "Значения 2 столбца [130.73969918]\n"
          ]
        },
        {
          "data": {
            "image/png": "[encoded data removed]",
            "text/plain": [
              "<Figure size 640x480 with 1 Axes>"
            ]
          },
          "metadata": {},
          "output_type": "display_data"
        }
      ],
      "source": [
        "import numpy as np\n",
        "import matplotlib.pyplot as plt\n",
        "def mat(m, n):\n",
        "  \n",
        "  mat = np.random.normal(0, 100,(m , n))\n",
        "  \n",
        "  # Дисперсия и мат ожидание строк\n",
        "  expectationRow = ''\n",
        "  varianceRow = ''\n",
        "  for i in range(len(mat)):\n",
        "    plt.hist(mat[i])\n",
        "    expectation = sum(mat[i]) / len(mat[i])\n",
        "    expectationRow = f\"Мат. ожидание {i +1} строки = {expectation}\"\n",
        "    print(expectationRow)\n",
        "    s2n = sum((num-expectation)**2 for num in mat[i] ) / len(mat[i]) # смещенная дисперсия\n",
        "    variance = len(mat[i])*s2n / (len(mat[i]) -1)  \n",
        "    varianceRow = f\"Дисперсия {i + 1} строки = {variance}\"\n",
        "    print(varianceRow)\n",
        "    print(f'Значения {i +1} строки{mat[i]}')\n",
        "    plt.hist(mat[i] ,edgecolor = 'black' ,bins = 70)\n",
        "    plt.show()\n",
        "\n",
        "    # Дисперсия и мат ожидание столбцов \n",
        "  transMat = mat.transpose() \n",
        "  expectationColumn = '' \n",
        "  varianceColumn = ''\n",
        "  for i in range(len(transMat)):\n",
        "    expectation = sum(transMat[i]) / len(transMat[i])\n",
        "    expectationColumn = f\"Мат. ожидание {i +1} столбца = {expectation}\"\n",
        "    print(expectationColumn)\n",
        "    s2n = sum((num-expectation)**2 for num in transMat[i] ) / len(transMat[i]) # смещенная дисперсия\n",
        "    variance = len(transMat[i])*s2n / (len(transMat[i]) -1)  \n",
        "    varianceColumn = f\"Дисперсия {i + 1} столбца = {variance}\"\n",
        "    print(varianceColumn)\n",
        "    print(f'Значения {i +1} столбца {transMat[i]}')\n",
        "    plt.hist(transMat[i],edgecolor = 'black', bins = 70)\n",
        "    plt.show()\n",
        "      \n",
        "  \n",
        "mat(1, 2)"
      ]
    },
    {
      "cell_type": "markdown",
      "metadata": {
        "id": "BDyATNdM0dJ2"
      },
      "source": [
        "<h1>Задача 5. Напишите функцию, которая заполняет матрицу $(m, n)$ в шахматном порядке заданными числами $a$ и $b$. Напишите тесты для кода"
      ]
    },
    {
      "cell_type": "code",
      "execution_count": 23,
      "metadata": {
        "id": "RWNJYWQGecS6"
      },
      "outputs": [
        {
          "name": "stdout",
          "output_type": "stream",
          "text": [
            "[[3. 4. 3. 4. 3. 4. 3. 4.]\n",
            " [4. 3. 4. 3. 4. 3. 4. 3.]\n",
            " [3. 4. 3. 4. 3. 4. 3. 4.]\n",
            " [4. 3. 4. 3. 4. 3. 4. 3.]\n",
            " [3. 4. 3. 4. 3. 4. 3. 4.]\n",
            " [4. 3. 4. 3. 4. 3. 4. 3.]\n",
            " [3. 4. 3. 4. 3. 4. 3. 4.]\n",
            " [4. 3. 4. 3. 4. 3. 4. 3.]]\n",
            "[[3. 4.]\n",
            " [4. 3.]]\n"
          ]
        }
      ],
      "source": [
        "def chess(m, n, a, b):\n",
        "  arr= np.zeros((m, n))\n",
        "  for i in range(len(arr)):\n",
        "    for j in range(len(arr[0])):\n",
        "        if(j % 2 == 0 and i % 2 == 0): \n",
        "           arr[i][j] = a\n",
        "        elif(j % 2 != 0 and i% 2 == 0): \n",
        "          arr[i][j] = b\n",
        "        elif(j % 2 == 0 and i % 2 != 0):\n",
        "             arr[i][j] = b\n",
        "        else: arr[i][j] = a  \n",
        "  return arr \n",
        "def test():\n",
        "  print(chess(8, 8 ,3,4)) \n",
        "  print(chess(2, 2 ,3,4)) \n",
        "test()"
      ]
    },
    {
      "cell_type": "markdown",
      "metadata": {
        "id": "-ymXLtTN0vB6"
      },
      "source": [
        "<h1>Задача 6. Напишите функцию, которая отрисовывает прямоугольник с заданными размерами (a, b) на изображении размера (m, n), цвет фона задайте в схеме RGB, как и цвет прямоугольника. Цвета также должны быть параметрами функции. Напишите аналогичную функцию но для овала с полуосями a и b. Напишите тесты для кода.\n",
        "Примечание: уравнение эллипса (границы овала) можно записать как:\n",
        "<h1>$\\frac{(x-x_0)^2}{a^2}+\\frac{(y-y_0)^2}{b^2}=1$"
      ]
    },
    {
      "cell_type": "code",
      "execution_count": 330,
      "metadata": {
        "id": "sNfl1t_kfOF4"
      },
      "outputs": [
        {
          "data": {
            "image/png": "[encoded data removed]",
            "text/plain": [
              "<Figure size 1000x200 with 1 Axes>"
            ]
          },
          "metadata": {},
          "output_type": "display_data"
        }
      ],
      "source": [
        "def draw_rectangle(a, b, m, n, background_color, rectangle_color):\n",
        "    img = np.zeros((m, n, 3))\n",
        "    img[:, :] = background_color\n",
        "    x_start = (m - a) // 2\n",
        "    x_end = x_start + a\n",
        "    y_start = (n - b) // 2\n",
        "    y_end = y_start + b\n",
        "    img[x_start:x_end, y_start:y_end] = rectangle_color\n",
        "    plt.imshow(img)\n",
        "    plt.axis('off')\n",
        "    plt.show()\n",
        "\n",
        "def draw_ellipse(a, b, m, n, background_color, ellipse_color):\n",
        "    img = np.zeros((m, n, 3))\n",
        "    img[:, :] = background_color\n",
        "    x0 = m // 2\n",
        "    y0 = n // 2\n",
        "    for x in range(m):\n",
        "        for y in range(n):\n",
        "            if ((x - x0) ** 2 / a ** 2 + (y - y0) ** 2 / b ** 2) <= 1:\n",
        "                img[x, y] = ellipse_color\n",
        "    plt.imshow(img)\n",
        "    plt.axis('off')\n",
        "    plt.show()\n",
        "\n",
        "a = 50\n",
        "b = 100\n",
        "m = 200\n",
        "n = 200\n",
        "rectangle_color = [0, 255, 0]\n",
        "ellipse_color = [0, 0, 255]\n",
        "background_color = [255, 0, 255]\n",
        "draw_rectangle(a, b, m, n, background_color, rectangle_color)\n",
        "draw_ellipse(a, b, m, n, background_color, ellipse_color)"
      ]
    },
    {
      "cell_type": "markdown",
      "metadata": {
        "id": "S82c38oz244H"
      },
      "source": [
        "<h1>Задача 7. Дан некий временной ряд. Для данного ряда нужно найти его: математическое ожидание, дисперсию, СКО, найти все локальные максимумы и минимумы (локальный максимум - это точка, которая больше своих соседних точек, а локальный минимум - это точка, которая меньше своих соседей), а также вычислить для данного ряда другой ряд, получаемый методом скользящего среднего с размером окна $p$.\n",
        "<h1>Примечание: метод скользящего среднего подразумевает нахождение среднего из подмножетсва ряда размером $p$"
      ]
    },
    {
      "cell_type": "code",
      "execution_count": 331,
      "metadata": {
        "id": "Zb9mIVge5MMt"
      },
      "outputs": [],
      "source": [
        "def calculate_statistics(time_series):\n",
        "    mean = np.mean(time_series)\n",
        "    variance = np.var(time_series)\n",
        "    std_deviation = np.std(time_series)\n",
        "    return mean, variance, std_deviation\n",
        "\n",
        "def find_local_extrema(time_series):\n",
        "    local_maxima = []\n",
        "    local_minima = []\n",
        "    if time_series[0] > time_series[1]:\n",
        "        local_maxima.append(time_series[0])\n",
        "    elif time_series[0] < time_series[1]:\n",
        "        local_minima.append(time_series[0])\n",
        "    for i in range(1, len(time_series) - 1):\n",
        "        if time_series[i] > time_series[i - 1] and time_series[i] > time_series[i + 1]:\n",
        "            local_maxima.append(time_series[i])\n",
        "        elif time_series[i] < time_series[i - 1] and time_series[i] < time_series[i + 1]:\n",
        "            local_minima.append(time_series[i])\n",
        "    if time_series[-1] > time_series[-2]:\n",
        "        local_maxima.append(time_series[-1])\n",
        "    elif time_series[-1] < time_series[-2]:\n",
        "        local_minima.append(time_series[-1])\n",
        "    return local_maxima, local_minima\n",
        "\n",
        "def moving_average(time_series, p):\n",
        "    return np.convolve(time_series, np.ones(p), 'valid') / p\n",
        "\n",
        "def test(time_series, p = 2):\n",
        "    mean, variance, std_deviation = calculate_statistics(time_series)\n",
        "    local_maxima, local_minima = find_local_extrema(time_series)\n",
        "    moving_avg = moving_average(time_series, p)\n",
        "    \n",
        "    print(f'Временной ряд = {time_series}')\n",
        "    print(f'Математическое ожидание = {mean}')\n",
        "    print(f'Дисперсия = {variance},')\n",
        "    print(f'СКО = {std_deviation},')\n",
        "    print(f'Локальные максимумы = {local_maxima},')\n",
        "    print(f'Локальные минимумы = {local_minima},')\n",
        "    print(f'размер окна = {p},')\n",
        "    print(f'Скользящее среднее = {moving_avg},')\n",
        "\n",
        "\n",
        "test([1, 2, 3, 4, 5], 3)\n",
        "print()\n",
        "test([1, 3, 2, 4, 1, 5], 3)\n",
        "print()\n",
        "test([3, 2, 9, 7, 9, 2, 4], 8)"
      ]
    },
    {
      "cell_type": "markdown",
      "metadata": {
        "id": "jPkylmOX5O9n"
      },
      "source": [
        "<h1> Задача 8. Дан некоторый вектор с целочисленными метками классов, напишите функцию, которая выполняет one-hot-encoding для данного вектора\n",
        "<h1> One-hot-encoding - представление, в котором на месте метки некоторого класса стоит 1, в остальных позициях стоит 0. Например для вектора [0, 2, 3, 0] one-hot-encoding выглядит как: [[1, 0, 0, 0], [0, 0, 1, 0], [0, 0, 0, 1], [1, 0, 0, 0]]"
      ]
    },
    {
      "cell_type": "code",
      "execution_count": 27,
      "metadata": {
        "id": "Y-jlnZvw56lD"
      },
      "outputs": [
        {
          "name": "stdout",
          "output_type": "stream",
          "text": [
            "[[1. 0. 0. 0. 0. 0. 0. 0. 0. 0.]\n",
            " [1. 0. 0. 0. 0. 0. 0. 0. 0. 0.]\n",
            " [1. 0. 0. 0. 0. 0. 0. 0. 0. 0.]\n",
            " [0. 0. 0. 0. 0. 0. 0. 0. 0. 1.]\n",
            " [0. 0. 1. 0. 0. 0. 0. 0. 0. 0.]\n",
            " [0. 0. 0. 1. 0. 0. 0. 0. 0. 0.]\n",
            " [0. 0. 0. 0. 1. 0. 0. 0. 0. 0.]\n",
            " [0. 0. 0. 0. 0. 1. 0. 0. 0. 0.]]\n"
          ]
        }
      ],
      "source": [
        "def oneHot(arr):\n",
        "    a = np.array(arr)\n",
        "    b = np.zeros((len(a), a.max() + 1))\n",
        "    for i in range(len(a)):\n",
        "        for j in range(len(b[i])): \n",
        "          if (a[i] == j):\n",
        "             b[i][j] = 1\n",
        "    return b         \n",
        "def test():\n",
        "   print(oneHot([0,0,0,9,2,3,4,5]))\n",
        "test()   "
      ]
    }
  ],
  "metadata": {
    "colab": {
      "provenance": []
    },
    "kernelspec": {
      "display_name": "Python 3",
      "name": "python3"
    },
    "language_info": {
      "codemirror_mode": {
        "name": "ipython",
        "version": 3
      },
      "file_extension": ".py",
      "mimetype": "text/x-python",
      "name": "python",
      "nbconvert_exporter": "python",
      "pygments_lexer": "ipython3",
      "version": "3.11.5"
    }
  },
  "nbformat": 4,
  "nbformat_minor": 0
}
