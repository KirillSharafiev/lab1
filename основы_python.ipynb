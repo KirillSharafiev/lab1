{
  "cells": [
    {
      "cell_type": "markdown",
      "metadata": {
        "id": "M-DGa20PaHnu"
      },
      "source": [
        "#Задача 1\n",
        "Написать функцию на вход которой подается строка, состоящая из латинских букв.\n",
        "Функция должна вернуть количество гласных букв (a, e, i, o, u) в этой строке. Написать тесты для кода"
      ]
    },
    {
      "cell_type": "code",
      "execution_count": 1,
      "metadata": {
        "id": "XvX8X_JJ6PCb"
      },
      "outputs": [
        {
          "name": "stdout",
          "output_type": "stream",
          "text": [
            "6\n",
            "0\n",
            "2\n",
            "error\n",
            "error\n"
          ]
        }
      ],
      "source": [
        "def vowelsCount(s): \n",
        "  if  not isinstance(s, str) or any(ch.isdigit() for ch in s):\n",
        "      return \"error\"\n",
        "  lowRegister = s.lower()\n",
        "  result = 0\n",
        "  for letter in lowRegister:\n",
        "    if letter == 'a' or letter == 'e' or letter == 'i' or letter == 'o' or letter == 'u':\n",
        "      result += 1\n",
        "  return result\n",
        "def test_UpperReg():\n",
        "   print(vowelsCount('AAABBCDEEE'))  \n",
        "def test_null():\n",
        "   print(vowelsCount('')) \n",
        "def test_mix_low_high():\n",
        "   print(vowelsCount('Aba'))\n",
        "def test_int_string():\n",
        "    print(vowelsCount('123')) \n",
        "def test_not_string():\n",
        "    print(vowelsCount(123))     \n",
        "       \n",
        "test_UpperReg()\n",
        "test_null()\n",
        "test_mix_low_high()\n",
        "test_int_string()\n",
        "test_not_string()"
      ]
    },
    {
      "cell_type": "markdown",
      "metadata": {
        "id": "t2ClV_Y0bbr6"
      },
      "source": [
        "# Задача 2\n",
        "Написать функцию на вход, которой подается строка. Функция должна вернуть true, если\n",
        "каждый символ в строке встречается только 1 раз, иначе должна вернуть false. Написать тесты для кода"
      ]
    },
    {
      "cell_type": "code",
      "execution_count": 2,
      "metadata": {
        "id": "FppbECao6VIz"
      },
      "outputs": [
        {
          "name": "stdout",
          "output_type": "stream",
          "text": [
            "True\n",
            "False\n",
            "True\n",
            "False\n",
            "True\n",
            "False\n"
          ]
        }
      ],
      "source": [
        "def uniqueLetter(s):\n",
        "  lowRerister = s.lower()\n",
        "  result = True\n",
        "  for letter in lowRerister:\n",
        "    if lowRerister.count(letter) > 1:\n",
        "      result = False\n",
        "      break\n",
        "  return result\n",
        "\n",
        "def test_normal_true():\n",
        "  print(uniqueLetter('abcd'))\n",
        "def test_normal_false():\n",
        "  print(uniqueLetter('aabb'))\n",
        "def test_null():\n",
        "  print(uniqueLetter(''))\n",
        "def test_mix_high_low():\n",
        "  print(uniqueLetter('Aa'))\n",
        "def test_space():\n",
        "  print(uniqueLetter(' '))\n",
        "def test_double_space():\n",
        "  print(uniqueLetter('  '))          \n",
        "test_normal_true()\n",
        "test_normal_false()\n",
        "test_null()\n",
        "test_mix_high_low()\n",
        "test_space()\n",
        "test_double_space()"
      ]
    },
    {
      "cell_type": "markdown",
      "metadata": {
        "id": "udRiIK1cdt6E"
      },
      "source": [
        "# Задача 3\n",
        "Написать функцию, которая принимает положительное число и возвращает количество\n",
        "бит равных 1 в этом числе. Написать тесты для кода"
      ]
    },
    {
      "cell_type": "code",
      "execution_count": 3,
      "metadata": {
        "id": "6tkfDJRz6dp_"
      },
      "outputs": [
        {
          "name": "stdout",
          "output_type": "stream",
          "text": [
            "1\n",
            "1\n",
            "4\n",
            "3\n",
            "5\n",
            "error\n"
          ]
        }
      ],
      "source": [
        "def countBits(n):\n",
        "  if( n < 0): return 'error'\n",
        "  bits = bin(n)\n",
        "  result = 0\n",
        "  for numbers in bits:\n",
        "    if numbers == '1':\n",
        "      result+=1\n",
        "  return result\n",
        "def test():\n",
        "  print(countBits(1))\n",
        "  print(countBits(2))\n",
        "  print(countBits(30))\n",
        "  print(countBits(400))\n",
        "  print(countBits(5000))\n",
        "  print(countBits(-5))\n",
        "test()"
      ]
    },
    {
      "cell_type": "markdown",
      "metadata": {
        "id": "26dDUz-Ae17N"
      },
      "source": [
        "# Задача 4\n",
        "Написать функцию, которая принимает положительное число. Функция должна вернуть то,\n",
        "сколько раз необходимо перемножать цифры числа или результат перемножения, чтобы\n",
        "получилось число состоящее из одной цифры.\n",
        "Например, для входного числа:\n",
        "· 39 функция должна вернуть 3, так как 3*9=27 => 2*7=14 => 1*4=4\n",
        "· 4 функция должна вернуть 0, так как число уже состоит из одной цифры\n",
        "· 999 функция должна вернуть 4, так как 9*9*9=729 => 7*2*9=126 => 1*2*6=12 =>\n",
        "1*2=2. Написать тесты для кода"
      ]
    },
    {
      "cell_type": "code",
      "execution_count": 4,
      "metadata": {
        "id": "BH1A_Mgi6i4G"
      },
      "outputs": [
        {
          "name": "stdout",
          "output_type": "stream",
          "text": [
            "4\n",
            "3\n",
            "0\n",
            "1\n"
          ]
        }
      ],
      "source": [
        "def magic(n):\n",
        "    res = 1\n",
        "    count = 0\n",
        "    number = n\n",
        "    while(n > 9):\n",
        "      e = number % 10\n",
        "      res *= e\n",
        "      number = (number // 10)\n",
        "      if number < 1:\n",
        "         n = res\n",
        "         number = n \n",
        "         res = 1 \n",
        "         count += 1\n",
        "    return count\n",
        "def test():\n",
        "   print(magic(999))\n",
        "   print(magic(39))\n",
        "   print(magic(4))\n",
        "   print(magic(104))\n",
        "\n",
        "test()\n"
      ]
    },
    {
      "cell_type": "markdown",
      "metadata": {
        "id": "0nS-kIa8g8vd"
      },
      "source": [
        "# Задача 5\n",
        "Написать функцию, которая принимает два целочисленных вектора одинаковой длины и\n",
        "возвращает среднеквадратическое отклонение двух векторов. Написать тесты для кода"
      ]
    },
    {
      "cell_type": "code",
      "execution_count": 55,
      "metadata": {
        "id": "8iphx4LM6xbx"
      },
      "outputs": [
        {
          "name": "stdout",
          "output_type": "stream",
          "text": [
            "0.04666666666666667\n",
            "0.5666666666666668\n",
            "0.5\n",
            "0.7799999999999999\n",
            "1.0\n",
            "0.0\n",
            "error\n"
          ]
        }
      ],
      "source": [
        "def mse(pred, true):\n",
        "      if len(pred) == 0 or len(true) == 0: return 'error'\n",
        "      len_vec = len(pred)\n",
        "      result = 0\n",
        "      for n in range(len_vec):\n",
        "          diff = pred[n] - true[n]\n",
        "          diff = diff**2 \n",
        "          result += diff\n",
        "      result = result / len_vec     \n",
        "      return result       \n",
        "def test():\n",
        "     print(mse([1,1.7,1.5],[1.1,2,1.7]))\n",
        "     print(mse([1,2,3],[1.1,2,1.7]))\n",
        "     print(mse([1,1,1],[1.1,2,1.7]))\n",
        "     print(mse([1,1.7,1.5],[1,2,3]))\n",
        "     print(mse([0],[1]))\n",
        "     print(mse([1],[1]))\n",
        "     print(mse([1],[]))\n",
        "\n",
        "\n",
        "test()\n"
      ]
    },
    {
      "cell_type": "markdown",
      "metadata": {
        "id": "vpIPKL439zkw"
      },
      "source": [
        "# Задача 6\n",
        "Написать функцию, принимающая целое положительное число. Функция должна вернуть\n",
        "строку вида “(n1**p1)(n2**p2)…(nk**pk)” представляющая разложение числа на простые\n",
        "множители (если pi == 1, то выводить только ni).\n",
        "Например, для числа 86240 функция должна вернуть “(2**5)(5)(7**2)(11)”. Написать тесты для кода"
      ]
    },
    {
      "cell_type": "code",
      "execution_count": 96,
      "metadata": {
        "id": "pFebmcZk94Jw"
      },
      "outputs": [
        {
          "name": "stdout",
          "output_type": "stream",
          "text": [
            "(2**5)(5)(7**2)(11.0)\n",
            "error\n",
            "error\n",
            "error\n",
            "(5)(41)(271.0)\n",
            "(2**5)\n"
          ]
        }
      ],
      "source": [
        "def primfacs(n):\n",
        "   if not isinstance(n , int) or n% 1 != 0 or n <=0: return 'error'\n",
        "   i = 2\n",
        "   primfacInt = []\n",
        "   primfacStr = []\n",
        "   primfacFinal = []\n",
        "   \n",
        "   while i * i <= n:\n",
        "       while n % i == 0:\n",
        "           primfacInt.append(i)\n",
        "           n = n / i\n",
        "       i = i + 1\n",
        "   if n > 1:\n",
        "       primfacInt.append(n)\n",
        "   for n in primfacInt:\n",
        "      if primfacInt.count(n) > 1:\n",
        "          primfacStr.append(f'({n}**{primfacInt.count(n)})')\n",
        "      else: primfacStr.append(f'({n})')\n",
        "   for s  in primfacStr:\n",
        "       if s not in primfacFinal:\n",
        "            primfacFinal.append(s)\n",
        "             \n",
        "   return ''.join(primfacFinal)     \n",
        "        \n",
        "def test():\n",
        "    print(primfacs(86240))\n",
        "    print(primfacs(-1))\n",
        "    print(primfacs(''))\n",
        "    print(primfacs(84.2))\n",
        "    print(primfacs(55555))\n",
        "    print(primfacs(32))\n",
        "test()    "
      ]
    },
    {
      "cell_type": "markdown",
      "metadata": {
        "id": "ps2s0BudX7A2"
      },
      "source": [
        "# Задача 7\n",
        "Написать функцию, принимающая целое число n, задающее количество кубиков. Функция\n",
        "должна определить, можно ли из данного кол-ва кубиков построить пирамиду, то есть\n",
        "можно ли представить число n как 1^2+2^2+3^2+…+k^2. Если можно, то функция должна\n",
        "вернуть k, иначе строку “It is impossible”. Написать тесты для кода"
      ]
    },
    {
      "cell_type": "code",
      "execution_count": 99,
      "metadata": {
        "id": "3YPjEXxhX_YT"
      },
      "outputs": [
        {
          "name": "stdout",
          "output_type": "stream",
          "text": [
            "2\n",
            "It is impossible\n",
            "4\n",
            "It is impossible\n",
            "error\n",
            "error\n",
            "error\n"
          ]
        }
      ],
      "source": [
        "def pyramid(number):\n",
        "    if not isinstance(number , int) or number % 1 != 0 or number <= 0: return 'error'\n",
        "    k = 1\n",
        "    res = 0\n",
        "    while(number > res):\n",
        "        res += k**2 \n",
        "        if res != number or res < number:\n",
        "          k +=1 \n",
        "    if res == number:\n",
        "     return k\n",
        "    else: return 'It is impossible'   \n",
        "def test():\n",
        "   print(pyramid(5))\n",
        "   print(pyramid(12))\n",
        "   print(pyramid(30))\n",
        "   print(pyramid(123))\n",
        "   print(pyramid(22.2))\n",
        "   print(pyramid(-2))\n",
        "   print(pyramid('123'))\n",
        "test()"
      ]
    },
    {
      "cell_type": "markdown",
      "metadata": {
        "id": "KeKgmIdAQMEJ"
      },
      "source": [
        "# Задача 8\n",
        "Функция принимает на вход положительное число и определяет является ли оно сбалансированным, т.е. сумма цифр до средних равна сумме цифр после. Средними в случае нечетного числа цифр считать одну цифру, в случае четного - две средних. Написать тесты для кода"
      ]
    },
    {
      "cell_type": "code",
      "execution_count": 107,
      "metadata": {
        "id": "gMAAqtqlQrZt"
      },
      "outputs": [
        {
          "name": "stdout",
          "output_type": "stream",
          "text": [
            "False\n",
            "True\n",
            "True\n",
            "True\n",
            "True\n",
            "True\n",
            "True\n",
            "error\n",
            "error\n"
          ]
        }
      ],
      "source": [
        "def averageNums(n):\n",
        "  if  n <= 0: return 'error'\n",
        "  a = []  \n",
        "  while n > 0:\n",
        "      a.append(n % 10)  \n",
        "      n //= 10  \n",
        "  a.reverse()\n",
        "  mid = len(a)//2\n",
        "  left = 0\n",
        "  right = 0\n",
        "  if len(a) % 2 == 0:\n",
        "     for num in range(0, mid -1 ):\n",
        "      left += a[num]\n",
        "  else:\n",
        "      for num in range(0, mid):\n",
        "        left += a[num]\n",
        "  for num in range(mid +1 , len(a)):\n",
        "    right += a[num]    \n",
        "  if right == left:\n",
        "     return True\n",
        "  else: return False\n",
        "def test():\n",
        "   print(averageNums(1222))\n",
        "   print(averageNums(14))\n",
        "   print(averageNums(4))\n",
        "   print(averageNums(121))\n",
        "   print(averageNums(4444))\n",
        "   print(averageNums(22.22))\n",
        "   print(averageNums(12.1))\n",
        "   print(pyramid(-2))\n",
        "   print(pyramid('123'))\n",
        "test()\n",
        " \n",
        " \n",
        "\n",
        " \n",
        " "
      ]
    }
  ],
  "metadata": {
    "colab": {
      "provenance": []
    },
    "kernelspec": {
      "display_name": "Python 3",
      "name": "python3"
    },
    "language_info": {
      "codemirror_mode": {
        "name": "ipython",
        "version": 3
      },
      "file_extension": ".py",
      "mimetype": "text/x-python",
      "name": "python",
      "nbconvert_exporter": "python",
      "pygments_lexer": "ipython3",
      "version": "3.11.5"
    }
  },
  "nbformat": 4,
  "nbformat_minor": 0
}
